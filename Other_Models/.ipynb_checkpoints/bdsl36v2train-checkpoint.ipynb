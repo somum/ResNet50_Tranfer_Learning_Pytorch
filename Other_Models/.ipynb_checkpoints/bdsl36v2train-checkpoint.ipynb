{
 "cells": [
  {
   "cell_type": "code",
   "execution_count": null,
   "metadata": {
    "_cell_guid": "b1076dfc-b9ad-4769-8c92-a6c4dae69d19",
    "_uuid": "8f2839f25d086af736a60e9eeb907d3b93b6e0e5"
   },
   "outputs": [],
   "source": [
    "import numpy as np \n",
    "import pandas as pd \n",
    "import os\n",
    "for dirname, _, filenames in os.walk('/kaggle/input'):\n",
    "    for filename in filenames:\n",
    "        print(os.path.join(dirname, filename))"
   ]
  },
  {
   "cell_type": "code",
   "execution_count": 4,
   "metadata": {
    "_cell_guid": "79c7e3d0-c299-4dcb-8224-4455121ee9b0",
    "_uuid": "d629ff2d2480ee46fbb7e2d37f6b5fab8052498a"
   },
   "outputs": [],
   "source": [
    "from fastai import *\n",
    "from fastai.vision import *\n",
    "from fastai.callbacks import *\n",
    "from PIL import ImageFile\n",
    "ImageFile.LOAD_TRUNCATED_IMAGES = True"
   ]
  },
  {
   "cell_type": "code",
   "execution_count": 5,
   "metadata": {},
   "outputs": [],
   "source": [
    "path = \"/kaggle/input/bdsl36v2\"\n",
    "train = \"/kaggle/input/bdslraug\"\n",
    "test = \"/kaggle/input/bdslraug\""
   ]
  },
  {
   "cell_type": "code",
   "execution_count": 6,
   "metadata": {},
   "outputs": [],
   "source": [
    "#data load path,train,valid, batch size, normalization\n",
    "def load_data(path,train='train',valid='valid',test='',size=(224,224),bs=64):\n",
    "    np.random.seed(42)\n",
    "    data = ImageDataBunch.from_folder(path=path, train = train, valid = valid,\n",
    "                                  ds_tfms = get_transforms(), size=size, num_workers = 4,bs=64).normalize(imagenet_stats)\n",
    "    return data"
   ]
  },
  {
   "cell_type": "code",
   "execution_count": 7,
   "metadata": {},
   "outputs": [],
   "source": [
    "#fastai function that loads model architecture\n",
    "def l_learner(data,model,wd=0.1,metrics=[error_rate,accuracy,Precision(average='macro'),Recall(average='macro'),FBeta(average='macro')],bnf=True,bnWd=False):\n",
    "\n",
    "    learn = cnn_learner(data, model, metrics=metrics,wd=0.1,bn_final = True,bn_wd=False)\n",
    "\n",
    "\n",
    "    \n",
    "    return learn"
   ]
  },
  {
   "cell_type": "code",
   "execution_count": 8,
   "metadata": {},
   "outputs": [],
   "source": [
    "def work_dir(learn):\n",
    "    learn.model_dir = '/kaggle/working/'\n",
    "    "
   ]
  },
  {
   "cell_type": "code",
   "execution_count": 9,
   "metadata": {},
   "outputs": [],
   "source": [
    "#find learning rate which point should we follow\n",
    "def lRatefind(learn):\n",
    "    learn.lr_find()\n",
    "    learn.recorder.plot()"
   ]
  },
  {
   "cell_type": "code",
   "execution_count": 10,
   "metadata": {},
   "outputs": [],
   "source": [
    "res34 = models.resnet34\n",
    "res50 = models.resnet50\n",
    "alex = models.alexnet\n",
    "den169 = models.densenet169\n",
    "den201 = models.densenet201\n",
    "sq11 = models.squeezenet1_1\n",
    "vgg19 = models.vgg19_bn"
   ]
  },
  {
   "cell_type": "markdown",
   "metadata": {},
   "source": [
    "# Resnet50"
   ]
  },
  {
   "cell_type": "code",
   "execution_count": null,
   "metadata": {},
   "outputs": [],
   "source": [
    "data = load_data(path)"
   ]
  },
  {
   "cell_type": "code",
   "execution_count": 15,
   "metadata": {},
   "outputs": [
    {
     "name": "stderr",
     "output_type": "stream",
     "text": [
      "Downloading: \"https://download.pytorch.org/models/resnet50-19c8e357.pth\" to /root/.cache/torch/checkpoints/resnet50-19c8e357.pth\n"
     ]
    },
    {
     "data": {
      "application/vnd.jupyter.widget-view+json": {
       "model_id": "7d32804b75394781b9bf0e4a7c934e42",
       "version_major": 2,
       "version_minor": 0
      },
      "text/plain": [
       "HBox(children=(FloatProgress(value=0.0, max=102502400.0), HTML(value='')))"
      ]
     },
     "metadata": {},
     "output_type": "display_data"
    },
    {
     "name": "stdout",
     "output_type": "stream",
     "text": [
      "\n"
     ]
    }
   ],
   "source": [
    "#loding model and data into learn\n",
    "learn = l_learner(data,res50)\n",
    "work_dir(learn)"
   ]
  },
  {
   "cell_type": "code",
   "execution_count": 16,
   "metadata": {},
   "outputs": [
    {
     "data": {
      "text/html": [
       "<table border=\"1\" class=\"dataframe\">\n",
       "  <thead>\n",
       "    <tr style=\"text-align: left;\">\n",
       "      <th>epoch</th>\n",
       "      <th>train_loss</th>\n",
       "      <th>valid_loss</th>\n",
       "      <th>error_rate</th>\n",
       "      <th>accuracy</th>\n",
       "      <th>precision</th>\n",
       "      <th>recall</th>\n",
       "      <th>f_beta</th>\n",
       "      <th>time</th>\n",
       "    </tr>\n",
       "  </thead>\n",
       "  <tbody>\n",
       "    <tr>\n",
       "      <td>0</td>\n",
       "      <td>1.955865</td>\n",
       "      <td>1.241441</td>\n",
       "      <td>0.285305</td>\n",
       "      <td>0.714695</td>\n",
       "      <td>0.693018</td>\n",
       "      <td>0.681782</td>\n",
       "      <td>0.679352</td>\n",
       "      <td>03:53</td>\n",
       "    </tr>\n",
       "    <tr>\n",
       "      <td>1</td>\n",
       "      <td>1.263574</td>\n",
       "      <td>0.896755</td>\n",
       "      <td>0.145649</td>\n",
       "      <td>0.854351</td>\n",
       "      <td>0.846427</td>\n",
       "      <td>0.837593</td>\n",
       "      <td>0.837354</td>\n",
       "      <td>03:50</td>\n",
       "    </tr>\n",
       "  </tbody>\n",
       "</table>"
      ],
      "text/plain": [
       "<IPython.core.display.HTML object>"
      ]
     },
     "metadata": {},
     "output_type": "display_data"
    }
   ],
   "source": [
    "#Train only the last layer group i.e fully connected layers.\n",
    "learn.fit_one_cycle(2)"
   ]
  },
  {
   "cell_type": "code",
   "execution_count": 17,
   "metadata": {},
   "outputs": [],
   "source": [
    "#Get updated from their pre-trained\n",
    "learn.unfreeze()"
   ]
  },
  {
   "cell_type": "code",
   "execution_count": 18,
   "metadata": {
    "scrolled": true
   },
   "outputs": [
    {
     "data": {
      "text/html": [
       "<table border=\"1\" class=\"dataframe\">\n",
       "  <thead>\n",
       "    <tr style=\"text-align: left;\">\n",
       "      <th>epoch</th>\n",
       "      <th>train_loss</th>\n",
       "      <th>valid_loss</th>\n",
       "      <th>error_rate</th>\n",
       "      <th>accuracy</th>\n",
       "      <th>precision</th>\n",
       "      <th>recall</th>\n",
       "      <th>f_beta</th>\n",
       "      <th>time</th>\n",
       "    </tr>\n",
       "  </thead>\n",
       "  <tbody>\n",
       "    <tr>\n",
       "      <td>0</td>\n",
       "      <td>0.849628</td>\n",
       "      <td>0.477673</td>\n",
       "      <td>0.062533</td>\n",
       "      <td>0.937467</td>\n",
       "      <td>0.932187</td>\n",
       "      <td>0.933423</td>\n",
       "      <td>0.932593</td>\n",
       "      <td>03:52</td>\n",
       "    </tr>\n",
       "    <tr>\n",
       "      <td>1</td>\n",
       "      <td>0.602338</td>\n",
       "      <td>0.318889</td>\n",
       "      <td>0.067483</td>\n",
       "      <td>0.932517</td>\n",
       "      <td>0.931330</td>\n",
       "      <td>0.925722</td>\n",
       "      <td>0.925212</td>\n",
       "      <td>03:51</td>\n",
       "    </tr>\n",
       "    <tr>\n",
       "      <td>2</td>\n",
       "      <td>0.535442</td>\n",
       "      <td>0.415918</td>\n",
       "      <td>0.102397</td>\n",
       "      <td>0.897603</td>\n",
       "      <td>0.904160</td>\n",
       "      <td>0.880441</td>\n",
       "      <td>0.875049</td>\n",
       "      <td>03:48</td>\n",
       "    </tr>\n",
       "    <tr>\n",
       "      <td>3</td>\n",
       "      <td>0.265733</td>\n",
       "      <td>0.074560</td>\n",
       "      <td>0.012507</td>\n",
       "      <td>0.987494</td>\n",
       "      <td>0.987047</td>\n",
       "      <td>0.985744</td>\n",
       "      <td>0.985902</td>\n",
       "      <td>03:47</td>\n",
       "    </tr>\n",
       "  </tbody>\n",
       "</table>"
      ],
      "text/plain": [
       "<IPython.core.display.HTML object>"
      ]
     },
     "metadata": {},
     "output_type": "display_data"
    },
    {
     "name": "stdout",
     "output_type": "stream",
     "text": [
      "Better model found at epoch 0 with accuracy value: 0.9374674558639526.\n",
      "Better model found at epoch 3 with accuracy value: 0.9874935150146484.\n"
     ]
    }
   ],
   "source": [
    "# per cycle, lr, % of total number of epochs, callback->  lowest possible validation loss, highst acc (in every epoch) [saves the model when quantity is best]\n",
    "#ReduceLROnPlateauCallback-> reduces learning rate\n",
    "learn.fit_one_cycle(4,slice(1e-4,1e-3),pct_start=0.8,callbacks=[SaveModelCallback(learn, every='improvement', monitor='accuracy', name='resnet50'),ReduceLROnPlateauCallback(learn,patience=10,min_delta=0.05)])"
   ]
  },
  {
   "cell_type": "code",
   "execution_count": 19,
   "metadata": {},
   "outputs": [
    {
     "data": {
      "text/html": [
       "<table border=\"1\" class=\"dataframe\">\n",
       "  <thead>\n",
       "    <tr style=\"text-align: left;\">\n",
       "      <th>epoch</th>\n",
       "      <th>train_loss</th>\n",
       "      <th>valid_loss</th>\n",
       "      <th>error_rate</th>\n",
       "      <th>accuracy</th>\n",
       "      <th>precision</th>\n",
       "      <th>recall</th>\n",
       "      <th>f_beta</th>\n",
       "      <th>time</th>\n",
       "    </tr>\n",
       "  </thead>\n",
       "  <tbody>\n",
       "    <tr>\n",
       "      <td>0</td>\n",
       "      <td>0.188710</td>\n",
       "      <td>0.066492</td>\n",
       "      <td>0.012507</td>\n",
       "      <td>0.987494</td>\n",
       "      <td>0.987695</td>\n",
       "      <td>0.986293</td>\n",
       "      <td>0.986458</td>\n",
       "      <td>03:46</td>\n",
       "    </tr>\n",
       "    <tr>\n",
       "      <td>1</td>\n",
       "      <td>0.270700</td>\n",
       "      <td>0.237524</td>\n",
       "      <td>0.058364</td>\n",
       "      <td>0.941636</td>\n",
       "      <td>0.943930</td>\n",
       "      <td>0.932450</td>\n",
       "      <td>0.931462</td>\n",
       "      <td>03:52</td>\n",
       "    </tr>\n",
       "    <tr>\n",
       "      <td>2</td>\n",
       "      <td>0.331003</td>\n",
       "      <td>0.386707</td>\n",
       "      <td>0.095623</td>\n",
       "      <td>0.904377</td>\n",
       "      <td>0.917151</td>\n",
       "      <td>0.893435</td>\n",
       "      <td>0.889923</td>\n",
       "      <td>03:49</td>\n",
       "    </tr>\n",
       "    <tr>\n",
       "      <td>3</td>\n",
       "      <td>0.165404</td>\n",
       "      <td>0.055346</td>\n",
       "      <td>0.012246</td>\n",
       "      <td>0.987754</td>\n",
       "      <td>0.987165</td>\n",
       "      <td>0.986015</td>\n",
       "      <td>0.986189</td>\n",
       "      <td>03:47</td>\n",
       "    </tr>\n",
       "  </tbody>\n",
       "</table>"
      ],
      "text/plain": [
       "<IPython.core.display.HTML object>"
      ]
     },
     "metadata": {},
     "output_type": "display_data"
    },
    {
     "name": "stdout",
     "output_type": "stream",
     "text": [
      "Better model found at epoch 0 with accuracy value: 0.9874935150146484.\n",
      "Better model found at epoch 3 with accuracy value: 0.9877540469169617.\n"
     ]
    }
   ],
   "source": [
    "learn.fit_one_cycle(4,slice(1e-4,1e-3),pct_start=0.8,callbacks=[SaveModelCallback(learn, every='improvement', monitor='accuracy', name='resnet50'),ReduceLROnPlateauCallback(learn,patience=10,min_delta=0.05)])"
   ]
  },
  {
   "cell_type": "code",
   "execution_count": null,
   "metadata": {},
   "outputs": [],
   "source": [
    "learn.save('resnet50')"
   ]
  },
  {
   "cell_type": "markdown",
   "metadata": {},
   "source": [
    "# VGG_19"
   ]
  },
  {
   "cell_type": "code",
   "execution_count": null,
   "metadata": {},
   "outputs": [],
   "source": [
    "data = load_data(path)\n"
   ]
  },
  {
   "cell_type": "code",
   "execution_count": 20,
   "metadata": {},
   "outputs": [
    {
     "name": "stderr",
     "output_type": "stream",
     "text": [
      "Downloading: \"https://download.pytorch.org/models/vgg19_bn-c79401a0.pth\" to /root/.cache/torch/checkpoints/vgg19_bn-c79401a0.pth\n"
     ]
    },
    {
     "data": {
      "application/vnd.jupyter.widget-view+json": {
       "model_id": "ce2abe212cef4af0b954f58fe3b27cd6",
       "version_major": 2,
       "version_minor": 0
      },
      "text/plain": [
       "HBox(children=(FloatProgress(value=0.0, max=574769405.0), HTML(value='')))"
      ]
     },
     "metadata": {},
     "output_type": "display_data"
    },
    {
     "name": "stdout",
     "output_type": "stream",
     "text": [
      "\n"
     ]
    }
   ],
   "source": [
    "learn = l_learner(data,vgg19)\n",
    "work_dir(learn)"
   ]
  },
  {
   "cell_type": "code",
   "execution_count": 21,
   "metadata": {},
   "outputs": [
    {
     "data": {
      "text/html": [
       "<table border=\"1\" class=\"dataframe\">\n",
       "  <thead>\n",
       "    <tr style=\"text-align: left;\">\n",
       "      <th>epoch</th>\n",
       "      <th>train_loss</th>\n",
       "      <th>valid_loss</th>\n",
       "      <th>error_rate</th>\n",
       "      <th>accuracy</th>\n",
       "      <th>precision</th>\n",
       "      <th>recall</th>\n",
       "      <th>f_beta</th>\n",
       "      <th>time</th>\n",
       "    </tr>\n",
       "  </thead>\n",
       "  <tbody>\n",
       "    <tr>\n",
       "      <td>0</td>\n",
       "      <td>2.342695</td>\n",
       "      <td>1.643577</td>\n",
       "      <td>0.378322</td>\n",
       "      <td>0.621678</td>\n",
       "      <td>0.610197</td>\n",
       "      <td>0.576920</td>\n",
       "      <td>0.574668</td>\n",
       "      <td>03:47</td>\n",
       "    </tr>\n",
       "    <tr>\n",
       "      <td>1</td>\n",
       "      <td>1.688254</td>\n",
       "      <td>1.329676</td>\n",
       "      <td>0.242314</td>\n",
       "      <td>0.757686</td>\n",
       "      <td>0.761262</td>\n",
       "      <td>0.731359</td>\n",
       "      <td>0.731953</td>\n",
       "      <td>03:45</td>\n",
       "    </tr>\n",
       "  </tbody>\n",
       "</table>"
      ],
      "text/plain": [
       "<IPython.core.display.HTML object>"
      ]
     },
     "metadata": {},
     "output_type": "display_data"
    }
   ],
   "source": [
    "learn.fit_one_cycle(2)"
   ]
  },
  {
   "cell_type": "code",
   "execution_count": 22,
   "metadata": {},
   "outputs": [],
   "source": [
    "learn.unfreeze()"
   ]
  },
  {
   "cell_type": "code",
   "execution_count": 23,
   "metadata": {},
   "outputs": [
    {
     "data": {
      "text/html": [
       "<table border=\"1\" class=\"dataframe\">\n",
       "  <thead>\n",
       "    <tr style=\"text-align: left;\">\n",
       "      <th>epoch</th>\n",
       "      <th>train_loss</th>\n",
       "      <th>valid_loss</th>\n",
       "      <th>error_rate</th>\n",
       "      <th>accuracy</th>\n",
       "      <th>precision</th>\n",
       "      <th>recall</th>\n",
       "      <th>f_beta</th>\n",
       "      <th>time</th>\n",
       "    </tr>\n",
       "  </thead>\n",
       "  <tbody>\n",
       "    <tr>\n",
       "      <td>0</td>\n",
       "      <td>1.285399</td>\n",
       "      <td>0.863540</td>\n",
       "      <td>0.116988</td>\n",
       "      <td>0.883012</td>\n",
       "      <td>0.883955</td>\n",
       "      <td>0.864451</td>\n",
       "      <td>0.865775</td>\n",
       "      <td>03:51</td>\n",
       "    </tr>\n",
       "    <tr>\n",
       "      <td>1</td>\n",
       "      <td>0.818540</td>\n",
       "      <td>0.459987</td>\n",
       "      <td>0.057061</td>\n",
       "      <td>0.942939</td>\n",
       "      <td>0.945335</td>\n",
       "      <td>0.935712</td>\n",
       "      <td>0.936321</td>\n",
       "      <td>03:54</td>\n",
       "    </tr>\n",
       "    <tr>\n",
       "      <td>2</td>\n",
       "      <td>0.527429</td>\n",
       "      <td>0.373296</td>\n",
       "      <td>0.050808</td>\n",
       "      <td>0.949192</td>\n",
       "      <td>0.956984</td>\n",
       "      <td>0.939764</td>\n",
       "      <td>0.941736</td>\n",
       "      <td>04:02</td>\n",
       "    </tr>\n",
       "    <tr>\n",
       "      <td>3</td>\n",
       "      <td>0.416700</td>\n",
       "      <td>0.381314</td>\n",
       "      <td>0.072955</td>\n",
       "      <td>0.927045</td>\n",
       "      <td>0.928556</td>\n",
       "      <td>0.914898</td>\n",
       "      <td>0.914379</td>\n",
       "      <td>04:02</td>\n",
       "    </tr>\n",
       "    <tr>\n",
       "      <td>4</td>\n",
       "      <td>0.356121</td>\n",
       "      <td>0.216862</td>\n",
       "      <td>0.038301</td>\n",
       "      <td>0.961699</td>\n",
       "      <td>0.960248</td>\n",
       "      <td>0.960128</td>\n",
       "      <td>0.959597</td>\n",
       "      <td>03:58</td>\n",
       "    </tr>\n",
       "    <tr>\n",
       "      <td>5</td>\n",
       "      <td>0.179567</td>\n",
       "      <td>0.061041</td>\n",
       "      <td>0.008859</td>\n",
       "      <td>0.991141</td>\n",
       "      <td>0.990687</td>\n",
       "      <td>0.989864</td>\n",
       "      <td>0.989986</td>\n",
       "      <td>03:52</td>\n",
       "    </tr>\n",
       "  </tbody>\n",
       "</table>"
      ],
      "text/plain": [
       "<IPython.core.display.HTML object>"
      ]
     },
     "metadata": {},
     "output_type": "display_data"
    },
    {
     "name": "stdout",
     "output_type": "stream",
     "text": [
      "Better model found at epoch 0 with accuracy value: 0.8830119967460632.\n",
      "Better model found at epoch 1 with accuracy value: 0.942939043045044.\n",
      "Better model found at epoch 2 with accuracy value: 0.9491922855377197.\n",
      "Better model found at epoch 4 with accuracy value: 0.9616988301277161.\n",
      "Better model found at epoch 5 with accuracy value: 0.9911412000656128.\n"
     ]
    }
   ],
   "source": [
    "learn.fit_one_cycle(6,slice(1e-4,1e-3),pct_start=0.8,callbacks=[SaveModelCallback(learn, every='improvement', monitor='accuracy', name='vgg19'),ReduceLROnPlateauCallback(learn,patience=10,min_delta=0.05)])"
   ]
  },
  {
   "cell_type": "code",
   "execution_count": 24,
   "metadata": {},
   "outputs": [],
   "source": [
    "learn.save('vgg19')"
   ]
  },
  {
   "cell_type": "markdown",
   "metadata": {},
   "source": [
    "# Dense169"
   ]
  },
  {
   "cell_type": "code",
   "execution_count": null,
   "metadata": {},
   "outputs": [],
   "source": [
    "data = load_data(path)\n"
   ]
  },
  {
   "cell_type": "code",
   "execution_count": 25,
   "metadata": {},
   "outputs": [
    {
     "name": "stderr",
     "output_type": "stream",
     "text": [
      "Downloading: \"https://download.pytorch.org/models/densenet169-b2777c0a.pth\" to /root/.cache/torch/checkpoints/densenet169-b2777c0a.pth\n"
     ]
    },
    {
     "data": {
      "application/vnd.jupyter.widget-view+json": {
       "model_id": "33bd0d97b4064e6fa68fa3d1735672ee",
       "version_major": 2,
       "version_minor": 0
      },
      "text/plain": [
       "HBox(children=(FloatProgress(value=0.0, max=57365526.0), HTML(value='')))"
      ]
     },
     "metadata": {},
     "output_type": "display_data"
    },
    {
     "name": "stdout",
     "output_type": "stream",
     "text": [
      "\n"
     ]
    }
   ],
   "source": [
    "learn = l_learner(data,den169)\n",
    "work_dir(learn)"
   ]
  },
  {
   "cell_type": "code",
   "execution_count": 26,
   "metadata": {},
   "outputs": [
    {
     "data": {
      "text/html": [
       "<table border=\"1\" class=\"dataframe\">\n",
       "  <thead>\n",
       "    <tr style=\"text-align: left;\">\n",
       "      <th>epoch</th>\n",
       "      <th>train_loss</th>\n",
       "      <th>valid_loss</th>\n",
       "      <th>error_rate</th>\n",
       "      <th>accuracy</th>\n",
       "      <th>precision</th>\n",
       "      <th>recall</th>\n",
       "      <th>f_beta</th>\n",
       "      <th>time</th>\n",
       "    </tr>\n",
       "  </thead>\n",
       "  <tbody>\n",
       "    <tr>\n",
       "      <td>0</td>\n",
       "      <td>1.689319</td>\n",
       "      <td>0.922015</td>\n",
       "      <td>0.187077</td>\n",
       "      <td>0.812923</td>\n",
       "      <td>0.814278</td>\n",
       "      <td>0.799249</td>\n",
       "      <td>0.798353</td>\n",
       "      <td>03:59</td>\n",
       "    </tr>\n",
       "    <tr>\n",
       "      <td>1</td>\n",
       "      <td>0.952400</td>\n",
       "      <td>0.572575</td>\n",
       "      <td>0.078947</td>\n",
       "      <td>0.921053</td>\n",
       "      <td>0.919042</td>\n",
       "      <td>0.915222</td>\n",
       "      <td>0.915049</td>\n",
       "      <td>04:01</td>\n",
       "    </tr>\n",
       "  </tbody>\n",
       "</table>"
      ],
      "text/plain": [
       "<IPython.core.display.HTML object>"
      ]
     },
     "metadata": {},
     "output_type": "display_data"
    }
   ],
   "source": [
    "learn.fit_one_cycle(2)"
   ]
  },
  {
   "cell_type": "code",
   "execution_count": 27,
   "metadata": {},
   "outputs": [],
   "source": [
    "learn.unfreeze()"
   ]
  },
  {
   "cell_type": "code",
   "execution_count": 28,
   "metadata": {},
   "outputs": [
    {
     "data": {
      "text/html": [
       "<table border=\"1\" class=\"dataframe\">\n",
       "  <thead>\n",
       "    <tr style=\"text-align: left;\">\n",
       "      <th>epoch</th>\n",
       "      <th>train_loss</th>\n",
       "      <th>valid_loss</th>\n",
       "      <th>error_rate</th>\n",
       "      <th>accuracy</th>\n",
       "      <th>precision</th>\n",
       "      <th>recall</th>\n",
       "      <th>f_beta</th>\n",
       "      <th>time</th>\n",
       "    </tr>\n",
       "  </thead>\n",
       "  <tbody>\n",
       "    <tr>\n",
       "      <td>0</td>\n",
       "      <td>0.694615</td>\n",
       "      <td>0.328388</td>\n",
       "      <td>0.045597</td>\n",
       "      <td>0.954403</td>\n",
       "      <td>0.952340</td>\n",
       "      <td>0.951189</td>\n",
       "      <td>0.950890</td>\n",
       "      <td>04:11</td>\n",
       "    </tr>\n",
       "    <tr>\n",
       "      <td>1</td>\n",
       "      <td>0.493765</td>\n",
       "      <td>0.261756</td>\n",
       "      <td>0.040125</td>\n",
       "      <td>0.959875</td>\n",
       "      <td>0.960118</td>\n",
       "      <td>0.956241</td>\n",
       "      <td>0.956330</td>\n",
       "      <td>04:08</td>\n",
       "    </tr>\n",
       "    <tr>\n",
       "      <td>2</td>\n",
       "      <td>0.291701</td>\n",
       "      <td>0.075590</td>\n",
       "      <td>0.008598</td>\n",
       "      <td>0.991402</td>\n",
       "      <td>0.990474</td>\n",
       "      <td>0.990968</td>\n",
       "      <td>0.990792</td>\n",
       "      <td>04:05</td>\n",
       "    </tr>\n",
       "  </tbody>\n",
       "</table>"
      ],
      "text/plain": [
       "<IPython.core.display.HTML object>"
      ]
     },
     "metadata": {},
     "output_type": "display_data"
    },
    {
     "name": "stdout",
     "output_type": "stream",
     "text": [
      "Better model found at epoch 0 with accuracy value: 0.9544033408164978.\n",
      "Better model found at epoch 1 with accuracy value: 0.9598749279975891.\n",
      "Better model found at epoch 2 with accuracy value: 0.9914017915725708.\n"
     ]
    }
   ],
   "source": [
    "learn.fit_one_cycle(3,slice(1e-4,1e-3),pct_start=0.8,callbacks=[SaveModelCallback(learn, every='improvement', monitor='accuracy', name='dense169'),ReduceLROnPlateauCallback(learn,patience=10,min_delta=0.05)])"
   ]
  },
  {
   "cell_type": "code",
   "execution_count": null,
   "metadata": {},
   "outputs": [],
   "source": [
    "learn.fit_one_cycle(12,slice(1e-4,1e-3),pct_start=0.8,callbacks=[SaveModelCallback(learn, every='improvement', monitor='accuracy', name='dense169'),ReduceLROnPlateauCallback(learn,patience=10,min_delta=0.05)])"
   ]
  },
  {
   "cell_type": "code",
   "execution_count": null,
   "metadata": {},
   "outputs": [],
   "source": [
    "learn.save('dense169')"
   ]
  },
  {
   "cell_type": "markdown",
   "metadata": {},
   "source": [
    "# Alexnet"
   ]
  },
  {
   "cell_type": "code",
   "execution_count": null,
   "metadata": {},
   "outputs": [],
   "source": [
    "data = load_data(path)\n"
   ]
  },
  {
   "cell_type": "code",
   "execution_count": 15,
   "metadata": {},
   "outputs": [
    {
     "name": "stderr",
     "output_type": "stream",
     "text": [
      "Downloading: \"https://download.pytorch.org/models/alexnet-owt-4df8aa71.pth\" to /root/.cache/torch/checkpoints/alexnet-owt-4df8aa71.pth\n"
     ]
    },
    {
     "data": {
      "application/vnd.jupyter.widget-view+json": {
       "model_id": "35ec2229e5fd4ca5a84ab1ead5aa8b78",
       "version_major": 2,
       "version_minor": 0
      },
      "text/plain": [
       "HBox(children=(FloatProgress(value=0.0, max=244418560.0), HTML(value='')))"
      ]
     },
     "metadata": {},
     "output_type": "display_data"
    },
    {
     "name": "stdout",
     "output_type": "stream",
     "text": [
      "\n"
     ]
    }
   ],
   "source": [
    "learn = l_learner(data,alex)\n",
    "work_dir(learn)"
   ]
  },
  {
   "cell_type": "code",
   "execution_count": 16,
   "metadata": {},
   "outputs": [
    {
     "data": {
      "text/html": [
       "<table border=\"1\" class=\"dataframe\">\n",
       "  <thead>\n",
       "    <tr style=\"text-align: left;\">\n",
       "      <th>epoch</th>\n",
       "      <th>train_loss</th>\n",
       "      <th>valid_loss</th>\n",
       "      <th>error_rate</th>\n",
       "      <th>accuracy</th>\n",
       "      <th>precision</th>\n",
       "      <th>recall</th>\n",
       "      <th>f_beta</th>\n",
       "      <th>time</th>\n",
       "    </tr>\n",
       "  </thead>\n",
       "  <tbody>\n",
       "    <tr>\n",
       "      <td>0</td>\n",
       "      <td>2.764252</td>\n",
       "      <td>2.328553</td>\n",
       "      <td>0.590933</td>\n",
       "      <td>0.409067</td>\n",
       "      <td>0.389825</td>\n",
       "      <td>0.341967</td>\n",
       "      <td>0.340993</td>\n",
       "      <td>03:38</td>\n",
       "    </tr>\n",
       "    <tr>\n",
       "      <td>1</td>\n",
       "      <td>2.370739</td>\n",
       "      <td>2.095171</td>\n",
       "      <td>0.472642</td>\n",
       "      <td>0.527358</td>\n",
       "      <td>0.547603</td>\n",
       "      <td>0.466357</td>\n",
       "      <td>0.467921</td>\n",
       "      <td>03:37</td>\n",
       "    </tr>\n",
       "  </tbody>\n",
       "</table>"
      ],
      "text/plain": [
       "<IPython.core.display.HTML object>"
      ]
     },
     "metadata": {},
     "output_type": "display_data"
    }
   ],
   "source": [
    "learn.fit_one_cycle(2)"
   ]
  },
  {
   "cell_type": "code",
   "execution_count": 17,
   "metadata": {},
   "outputs": [],
   "source": [
    "learn.unfreeze()"
   ]
  },
  {
   "cell_type": "code",
   "execution_count": 18,
   "metadata": {},
   "outputs": [
    {
     "data": {
      "text/html": [
       "<table border=\"1\" class=\"dataframe\">\n",
       "  <thead>\n",
       "    <tr style=\"text-align: left;\">\n",
       "      <th>epoch</th>\n",
       "      <th>train_loss</th>\n",
       "      <th>valid_loss</th>\n",
       "      <th>error_rate</th>\n",
       "      <th>accuracy</th>\n",
       "      <th>precision</th>\n",
       "      <th>recall</th>\n",
       "      <th>f_beta</th>\n",
       "      <th>time</th>\n",
       "    </tr>\n",
       "  </thead>\n",
       "  <tbody>\n",
       "    <tr>\n",
       "      <td>0</td>\n",
       "      <td>2.172894</td>\n",
       "      <td>1.874182</td>\n",
       "      <td>0.406722</td>\n",
       "      <td>0.593278</td>\n",
       "      <td>0.604137</td>\n",
       "      <td>0.537883</td>\n",
       "      <td>0.538999</td>\n",
       "      <td>03:36</td>\n",
       "    </tr>\n",
       "    <tr>\n",
       "      <td>1</td>\n",
       "      <td>1.947829</td>\n",
       "      <td>1.631562</td>\n",
       "      <td>0.310578</td>\n",
       "      <td>0.689422</td>\n",
       "      <td>0.684216</td>\n",
       "      <td>0.645398</td>\n",
       "      <td>0.644917</td>\n",
       "      <td>03:37</td>\n",
       "    </tr>\n",
       "    <tr>\n",
       "      <td>2</td>\n",
       "      <td>1.629444</td>\n",
       "      <td>1.329302</td>\n",
       "      <td>0.226681</td>\n",
       "      <td>0.773319</td>\n",
       "      <td>0.785196</td>\n",
       "      <td>0.738265</td>\n",
       "      <td>0.739611</td>\n",
       "      <td>03:35</td>\n",
       "    </tr>\n",
       "    <tr>\n",
       "      <td>3</td>\n",
       "      <td>1.308636</td>\n",
       "      <td>0.923126</td>\n",
       "      <td>0.145388</td>\n",
       "      <td>0.854612</td>\n",
       "      <td>0.860862</td>\n",
       "      <td>0.831115</td>\n",
       "      <td>0.832326</td>\n",
       "      <td>03:42</td>\n",
       "    </tr>\n",
       "    <tr>\n",
       "      <td>4</td>\n",
       "      <td>0.980593</td>\n",
       "      <td>0.658772</td>\n",
       "      <td>0.119594</td>\n",
       "      <td>0.880406</td>\n",
       "      <td>0.890423</td>\n",
       "      <td>0.862581</td>\n",
       "      <td>0.863738</td>\n",
       "      <td>03:42</td>\n",
       "    </tr>\n",
       "    <tr>\n",
       "      <td>5</td>\n",
       "      <td>0.769933</td>\n",
       "      <td>0.461274</td>\n",
       "      <td>0.079208</td>\n",
       "      <td>0.920792</td>\n",
       "      <td>0.924550</td>\n",
       "      <td>0.908393</td>\n",
       "      <td>0.910232</td>\n",
       "      <td>03:41</td>\n",
       "    </tr>\n",
       "    <tr>\n",
       "      <td>6</td>\n",
       "      <td>0.593893</td>\n",
       "      <td>0.309158</td>\n",
       "      <td>0.058103</td>\n",
       "      <td>0.941897</td>\n",
       "      <td>0.935829</td>\n",
       "      <td>0.936103</td>\n",
       "      <td>0.935540</td>\n",
       "      <td>03:41</td>\n",
       "    </tr>\n",
       "    <tr>\n",
       "      <td>7</td>\n",
       "      <td>0.420598</td>\n",
       "      <td>0.211694</td>\n",
       "      <td>0.036998</td>\n",
       "      <td>0.963002</td>\n",
       "      <td>0.961229</td>\n",
       "      <td>0.959278</td>\n",
       "      <td>0.959402</td>\n",
       "      <td>03:42</td>\n",
       "    </tr>\n",
       "  </tbody>\n",
       "</table>"
      ],
      "text/plain": [
       "<IPython.core.display.HTML object>"
      ]
     },
     "metadata": {},
     "output_type": "display_data"
    },
    {
     "name": "stdout",
     "output_type": "stream",
     "text": [
      "Better model found at epoch 0 with accuracy value: 0.5932777523994446.\n",
      "Better model found at epoch 1 with accuracy value: 0.6894215941429138.\n",
      "Better model found at epoch 2 with accuracy value: 0.7733194231987.\n",
      "Better model found at epoch 3 with accuracy value: 0.8546117544174194.\n",
      "Better model found at epoch 4 with accuracy value: 0.8804064393043518.\n",
      "Better model found at epoch 5 with accuracy value: 0.9207921028137207.\n",
      "Better model found at epoch 6 with accuracy value: 0.9418967962265015.\n",
      "Better model found at epoch 7 with accuracy value: 0.963001549243927.\n"
     ]
    }
   ],
   "source": [
    "learn.fit_one_cycle(8,slice(1e-4,1e-3),pct_start=0.8,callbacks=[SaveModelCallback(learn, every='improvement', monitor='accuracy', name='alexnet'),ReduceLROnPlateauCallback(learn,patience=10,min_delta=0.05)])"
   ]
  },
  {
   "cell_type": "code",
   "execution_count": 19,
   "metadata": {},
   "outputs": [
    {
     "data": {
      "text/html": [
       "<table border=\"1\" class=\"dataframe\">\n",
       "  <thead>\n",
       "    <tr style=\"text-align: left;\">\n",
       "      <th>epoch</th>\n",
       "      <th>train_loss</th>\n",
       "      <th>valid_loss</th>\n",
       "      <th>error_rate</th>\n",
       "      <th>accuracy</th>\n",
       "      <th>precision</th>\n",
       "      <th>recall</th>\n",
       "      <th>f_beta</th>\n",
       "      <th>time</th>\n",
       "    </tr>\n",
       "  </thead>\n",
       "  <tbody>\n",
       "    <tr>\n",
       "      <td>0</td>\n",
       "      <td>0.411661</td>\n",
       "      <td>0.225210</td>\n",
       "      <td>0.040907</td>\n",
       "      <td>0.959093</td>\n",
       "      <td>0.954613</td>\n",
       "      <td>0.953979</td>\n",
       "      <td>0.953723</td>\n",
       "      <td>03:26</td>\n",
       "    </tr>\n",
       "    <tr>\n",
       "      <td>1</td>\n",
       "      <td>0.426470</td>\n",
       "      <td>0.183818</td>\n",
       "      <td>0.037520</td>\n",
       "      <td>0.962480</td>\n",
       "      <td>0.961008</td>\n",
       "      <td>0.957185</td>\n",
       "      <td>0.957717</td>\n",
       "      <td>03:29</td>\n",
       "    </tr>\n",
       "  </tbody>\n",
       "</table>"
      ],
      "text/plain": [
       "<IPython.core.display.HTML object>"
      ]
     },
     "metadata": {},
     "output_type": "display_data"
    },
    {
     "name": "stdout",
     "output_type": "stream",
     "text": [
      "Better model found at epoch 0 with accuracy value: 0.9590932726860046.\n",
      "Better model found at epoch 1 with accuracy value: 0.9624804854393005.\n"
     ]
    }
   ],
   "source": [
    "learn.fit_one_cycle(2,slice(1e-4,1e-3),pct_start=0.8,callbacks=[SaveModelCallback(learn, every='improvement', monitor='accuracy', name='alexnet'),ReduceLROnPlateauCallback(learn,patience=10,min_delta=0.05)])"
   ]
  },
  {
   "cell_type": "code",
   "execution_count": 20,
   "metadata": {},
   "outputs": [
    {
     "data": {
      "text/html": [
       "<table border=\"1\" class=\"dataframe\">\n",
       "  <thead>\n",
       "    <tr style=\"text-align: left;\">\n",
       "      <th>epoch</th>\n",
       "      <th>train_loss</th>\n",
       "      <th>valid_loss</th>\n",
       "      <th>error_rate</th>\n",
       "      <th>accuracy</th>\n",
       "      <th>precision</th>\n",
       "      <th>recall</th>\n",
       "      <th>f_beta</th>\n",
       "      <th>time</th>\n",
       "    </tr>\n",
       "  </thead>\n",
       "  <tbody>\n",
       "    <tr>\n",
       "      <td>0</td>\n",
       "      <td>0.323992</td>\n",
       "      <td>0.156806</td>\n",
       "      <td>0.032308</td>\n",
       "      <td>0.967691</td>\n",
       "      <td>0.965644</td>\n",
       "      <td>0.963532</td>\n",
       "      <td>0.963762</td>\n",
       "      <td>07:07</td>\n",
       "    </tr>\n",
       "    <tr>\n",
       "      <td>1</td>\n",
       "      <td>0.342660</td>\n",
       "      <td>0.170467</td>\n",
       "      <td>0.033090</td>\n",
       "      <td>0.966910</td>\n",
       "      <td>0.964031</td>\n",
       "      <td>0.961595</td>\n",
       "      <td>0.961609</td>\n",
       "      <td>06:01</td>\n",
       "    </tr>\n",
       "    <tr>\n",
       "      <td>2</td>\n",
       "      <td>0.358973</td>\n",
       "      <td>0.178170</td>\n",
       "      <td>0.038822</td>\n",
       "      <td>0.961178</td>\n",
       "      <td>0.960409</td>\n",
       "      <td>0.956542</td>\n",
       "      <td>0.956969</td>\n",
       "      <td>03:32</td>\n",
       "    </tr>\n",
       "    <tr>\n",
       "      <td>3</td>\n",
       "      <td>0.278531</td>\n",
       "      <td>0.117679</td>\n",
       "      <td>0.023710</td>\n",
       "      <td>0.976290</td>\n",
       "      <td>0.976065</td>\n",
       "      <td>0.973960</td>\n",
       "      <td>0.974259</td>\n",
       "      <td>03:27</td>\n",
       "    </tr>\n",
       "  </tbody>\n",
       "</table>"
      ],
      "text/plain": [
       "<IPython.core.display.HTML object>"
      ]
     },
     "metadata": {},
     "output_type": "display_data"
    },
    {
     "name": "stdout",
     "output_type": "stream",
     "text": [
      "Better model found at epoch 0 with accuracy value: 0.9676914811134338.\n",
      "Better model found at epoch 3 with accuracy value: 0.9762897491455078.\n"
     ]
    }
   ],
   "source": [
    "learn.fit_one_cycle(4,slice(1e-4,1e-3),pct_start=0.8,callbacks=[SaveModelCallback(learn, every='improvement', monitor='accuracy', name='alexnet'),ReduceLROnPlateauCallback(learn,patience=10,min_delta=0.05)])"
   ]
  },
  {
   "cell_type": "code",
   "execution_count": 21,
   "metadata": {},
   "outputs": [
    {
     "data": {
      "text/html": [
       "<table border=\"1\" class=\"dataframe\">\n",
       "  <thead>\n",
       "    <tr style=\"text-align: left;\">\n",
       "      <th>epoch</th>\n",
       "      <th>train_loss</th>\n",
       "      <th>valid_loss</th>\n",
       "      <th>error_rate</th>\n",
       "      <th>accuracy</th>\n",
       "      <th>precision</th>\n",
       "      <th>recall</th>\n",
       "      <th>f_beta</th>\n",
       "      <th>time</th>\n",
       "    </tr>\n",
       "  </thead>\n",
       "  <tbody>\n",
       "    <tr>\n",
       "      <td>0</td>\n",
       "      <td>0.245341</td>\n",
       "      <td>0.129117</td>\n",
       "      <td>0.028661</td>\n",
       "      <td>0.971339</td>\n",
       "      <td>0.969285</td>\n",
       "      <td>0.967602</td>\n",
       "      <td>0.967714</td>\n",
       "      <td>03:24</td>\n",
       "    </tr>\n",
       "    <tr>\n",
       "      <td>1</td>\n",
       "      <td>0.289320</td>\n",
       "      <td>0.118786</td>\n",
       "      <td>0.024752</td>\n",
       "      <td>0.975248</td>\n",
       "      <td>0.973009</td>\n",
       "      <td>0.972075</td>\n",
       "      <td>0.972134</td>\n",
       "      <td>03:35</td>\n",
       "    </tr>\n",
       "  </tbody>\n",
       "</table>"
      ],
      "text/plain": [
       "<IPython.core.display.HTML object>"
      ]
     },
     "metadata": {},
     "output_type": "display_data"
    },
    {
     "name": "stdout",
     "output_type": "stream",
     "text": [
      "Better model found at epoch 0 with accuracy value: 0.971339225769043.\n",
      "Better model found at epoch 1 with accuracy value: 0.9752475023269653.\n"
     ]
    }
   ],
   "source": [
    "learn.fit_one_cycle(2,slice(1e-4,1e-3),pct_start=0.8,callbacks=[SaveModelCallback(learn, every='improvement', monitor='accuracy', name='alexnet'),ReduceLROnPlateauCallback(learn,patience=10,min_delta=0.05)])"
   ]
  },
  {
   "cell_type": "code",
   "execution_count": null,
   "metadata": {},
   "outputs": [],
   "source": [
    "learn.save('alexnet')"
   ]
  }
 ],
 "metadata": {
  "kernelspec": {
   "display_name": "Python 3",
   "language": "python",
   "name": "python3"
  },
  "language_info": {
   "codemirror_mode": {
    "name": "ipython",
    "version": 3
   },
   "file_extension": ".py",
   "mimetype": "text/x-python",
   "name": "python",
   "nbconvert_exporter": "python",
   "pygments_lexer": "ipython3",
   "version": "3.6.4"
  }
 },
 "nbformat": 4,
 "nbformat_minor": 4
}
